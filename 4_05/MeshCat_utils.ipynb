{
 "cells": [
  {
   "cell_type": "code",
   "execution_count": 8,
   "id": "249b8851",
   "metadata": {},
   "outputs": [
    {
     "name": "stderr",
     "output_type": "stream",
     "text": [
      "\u001b[32m\u001b[1m  Activating\u001b[22m\u001b[39m environment at `~/devel/recitations-2024/Untitled Folder/Project.toml`\n"
     ]
    }
   ],
   "source": [
    "import Pkg; Pkg.activate(\".\")\n",
    "import MeshCat as mc \n",
    "using LinearAlgebra"
   ]
  },
  {
   "cell_type": "code",
   "execution_count": 37,
   "id": "d7bb58c6",
   "metadata": {},
   "outputs": [
    {
     "data": {
      "text/plain": [
       "dcm_from_phi (generic function with 1 method)"
      ]
     },
     "execution_count": 37,
     "metadata": {},
     "output_type": "execute_result"
    }
   ],
   "source": [
    "# getting rotation matrix from axis-angle vectors\n",
    "function skew(v)\n",
    "    [0 -v[3] v[2]; v[3] 0 -v[1]; -v[2] v[1] 0]\n",
    "end\n",
    "function dcm_from_phi(ϕ)\n",
    "    # rotation matrix from axis angle \n",
    "    # phi = r * θ, where theta is the axis of rotation (unit vector)\n",
    "    # and θ = the angle of rotation\n",
    "    theta = norm(ϕ)\n",
    "    r = (abs(theta)>1e-12) ? ϕ/theta : zeros(3)\n",
    "    Q = (I + sin(theta) * skew(r) + (1.0 - cos(theta)) *\n",
    "    skew(r) * skew(r))\n",
    "    return Q \n",
    "end"
   ]
  },
  {
   "cell_type": "code",
   "execution_count": 38,
   "id": "93385d9c",
   "metadata": {},
   "outputs": [
    {
     "data": {
      "text/plain": [
       "create_cyl (generic function with 1 method)"
      ]
     },
     "execution_count": 38,
     "metadata": {},
     "output_type": "execute_result"
    }
   ],
   "source": [
    "# create a cylinder from a length and a radius \n",
    "function create_cyl(vis, len, R)\n",
    "    # x axis aligned \n",
    "    a = [-len/2, 0, 0]\n",
    "    b = [+len/2, 0, 0]\n",
    "    cyl = mc.Cylinder(mc.Point(a...), mc.Point(b...), R)\n",
    "    material = mc.MeshPhongMaterial(color=mc.RGBA(1.0, 0.0, 0.0, 1.0))\n",
    "    mc.setobject!(vis[:rope], cyl, material)\n",
    "end"
   ]
  },
  {
   "cell_type": "code",
   "execution_count": 39,
   "id": "7ea67873",
   "metadata": {},
   "outputs": [
    {
     "data": {
      "text/plain": [
       "get_dcm_from_ends (generic function with 1 method)"
      ]
     },
     "execution_count": 39,
     "metadata": {},
     "output_type": "execute_result"
    }
   ],
   "source": [
    "function get_dcm_from_ends(a, b)\n",
    "    # get a rotation matrix from ends of a cylinder \n",
    "    nx = normalize(b - a)\n",
    "    e = [1.242,4.242,-3.424]  \n",
    "    # taking a cross product with random e gives us a new vector \n",
    "    # that is orthogonal to both nx and e. We make this ny \n",
    "    ny = normalize(cross(nx, e))\n",
    "    nz = normalize(cross(nx, ny))\n",
    "    \n",
    "    N_Q_B = [nx ny nz]\n",
    "end"
   ]
  },
  {
   "cell_type": "code",
   "execution_count": 40,
   "id": "b194a3f3",
   "metadata": {},
   "outputs": [
    {
     "name": "stderr",
     "output_type": "stream",
     "text": [
      "\u001b[36m\u001b[1m[ \u001b[22m\u001b[39m\u001b[36m\u001b[1mInfo: \u001b[22m\u001b[39mListening on: 127.0.0.1:8723, thread id: 1\n",
      "\u001b[36m\u001b[1m┌ \u001b[22m\u001b[39m\u001b[36m\u001b[1mInfo: \u001b[22m\u001b[39mMeshCat server started. You can open the visualizer by visiting the following URL in your browser:\n",
      "\u001b[36m\u001b[1m└ \u001b[22m\u001b[39mhttp://127.0.0.1:8723\n"
     ]
    },
    {
     "data": {
      "text/html": [
       "    <div style=\"height: 500px; width: 100%; overflow-x: auto; overflow-y: hidden; resize: both\">\n",
       "    <iframe src=\"http://127.0.0.1:8723\" style=\"width: 100%; height: 100%; border: none\"></iframe>\n",
       "    </div>\n"
      ],
      "text/plain": [
       "MeshCat.DisplayedVisualizer(MeshCat.CoreVisualizer(MeshCat.SceneTrees.SceneNode(nothing, nothing, Dict{String, Vector{UInt8}}(), UInt8[0x83, 0xa7, 0x6f, 0x70, 0x74, 0x69, 0x6f, 0x6e, 0x73, 0x82  …  0x5f, 0x61, 0x6e, 0x69, 0x6d, 0x61, 0x74, 0x69, 0x6f, 0x6e], Dict{String, MeshCat.SceneTrees.SceneNode}(\"meshcat\" => MeshCat.SceneTrees.SceneNode(nothing, nothing, Dict{String, Vector{UInt8}}(), nothing, Dict{String, MeshCat.SceneTrees.SceneNode}(\"quad\" => MeshCat.SceneTrees.SceneNode(nothing, nothing, Dict{String, Vector{UInt8}}(), nothing, Dict{String, MeshCat.SceneTrees.SceneNode}(\"base\" => MeshCat.SceneTrees.SceneNode(UInt8[0x83, 0xa6, 0x6f, 0x62, 0x6a, 0x65, 0x63, 0x74, 0x84, 0xaa  …  0x2f, 0x71, 0x75, 0x61, 0x64, 0x2f, 0x62, 0x61, 0x73, 0x65], UInt8[0x83, 0xa6, 0x6d, 0x61, 0x74, 0x72, 0x69, 0x78, 0xc7, 0x40  …  0x2f, 0x71, 0x75, 0x61, 0x64, 0x2f, 0x62, 0x61, 0x73, 0x65], Dict{String, Vector{UInt8}}(), nothing, Dict{String, MeshCat.SceneTrees.SceneNode}()))), \"dragon\" => MeshCat.SceneTrees.SceneNode(nothing, nothing, Dict{String, Vector{UInt8}}(), nothing, Dict{String, MeshCat.SceneTrees.SceneNode}(\"base\" => MeshCat.SceneTrees.SceneNode(UInt8[0x83, 0xa6, 0x6f, 0x62, 0x6a, 0x65, 0x63, 0x74, 0x84, 0xaa  …  0x72, 0x61, 0x67, 0x6f, 0x6e, 0x2f, 0x62, 0x61, 0x73, 0x65], UInt8[0x83, 0xa6, 0x6d, 0x61, 0x74, 0x72, 0x69, 0x78, 0xc7, 0x40  …  0x72, 0x61, 0x67, 0x6f, 0x6e, 0x2f, 0x62, 0x61, 0x73, 0x65], Dict{String, Vector{UInt8}}(), nothing, Dict{String, MeshCat.SceneTrees.SceneNode}()))), \"rope\" => MeshCat.SceneTrees.SceneNode(UInt8[0x83, 0xa6, 0x6f, 0x62, 0x6a, 0x65, 0x63, 0x74, 0x84, 0xaa  …  0x73, 0x68, 0x63, 0x61, 0x74, 0x2f, 0x72, 0x6f, 0x70, 0x65], nothing, Dict{String, Vector{UInt8}}(), nothing, Dict{String, MeshCat.SceneTrees.SceneNode}()))))), Set{HTTP.WebSockets.WebSocket}(), ip\"127.0.0.1\", 8723, HTTP.Servers.Server{HTTP.Servers.Listener{Nothing, Sockets.TCPServer}}(HTTP.Servers.Listener{Nothing, Sockets.TCPServer}(Sockets.InetAddr{Sockets.IPv4}(ip\"127.0.0.1\", 8723), \"127.0.0.1\", \"8723\", nothing, Sockets.TCPServer(RawFD(111) active)), nothing, Set{HTTP.Connections.Connection}(), Task (runnable) @0x0000000173ac9ee0, ReentrantLock(nothing, Base.GenericCondition{Base.Threads.SpinLock}(Base.InvasiveLinkedList{Task}(nothing, nothing), Base.Threads.SpinLock(0)), 0))))"
      ]
     },
     "execution_count": 40,
     "metadata": {},
     "output_type": "execute_result"
    }
   ],
   "source": [
    "let \n",
    "    vis = mc.Visualizer()\n",
    "    \n",
    "    # NOTICE HOW I USE [:<OBJECT>][:base] WHEN DEFINING THE INITIAL OBJ OFFSETS \n",
    "    # THEN WHEN I DO ANIMATION, I JUST USE [:<OBJECT>]\n",
    "    \n",
    "    # dragon details (play with these to see how they change)\n",
    "    dragon_obj = mc.MeshFileGeometry(joinpath(@__DIR__,\"dragon.obj\"))\n",
    "    dragon_material = mc.MeshPhongMaterial(color=mc.RGBA(0.6, 0.6, 1.0, 0.7))\n",
    "    dragon_r_offset = [0,0,-.34]\n",
    "    dragon_scale = 0.002 \n",
    "    dragon_Q_offset = dcm_from_phi(pi/2*[1,0,0])\n",
    "    dragon_offset = mc.compose(\n",
    "        mc.Translation(dragon_r_offset),\n",
    "        mc.LinearMap(dragon_scale * dragon_Q_offset)\n",
    "    )\n",
    "    \n",
    "    # create first dragon \n",
    "    mc.setobject!(vis[:dragon][:base], dragon_obj, dragon_material) # NOTE :base\n",
    "    mc.settransform!(vis[:dragon][:base], dragon_offset)            # NOTE :base\n",
    "    \n",
    "    # quadrotor details (play with these to see how they change)\n",
    "    quad_obj = mc.MeshFileGeometry(joinpath(@__DIR__,\"quadrotor.obj\"))\n",
    "    quad_material = mc.MeshPhongMaterial(color=mc.RGBA(1.0, 0.6, 0.6, 0.7))\n",
    "    quad_r_offset = [0,0,0]\n",
    "    quad_scale = 2.5 \n",
    "    quad_Q_offset = dcm_from_phi([0,0,0])\n",
    "    quad_offset = mc.compose(\n",
    "        mc.Translation(quad_r_offset),\n",
    "        mc.LinearMap(quad_scale * quad_Q_offset)\n",
    "    )\n",
    "    \n",
    "    # create quadrotor \n",
    "    mc.setobject!(vis[:quad][:base], quad_obj, quad_material)       # NOTE :base\n",
    "    mc.settransform!(vis[:quad][:base], quad_offset)                # NOTE :base\n",
    "     \n",
    "    # create rope between them\n",
    "    rope_length = 5.0 \n",
    "    create_cyl(vis, rope_length, 0.05)\n",
    "    \n",
    "    # animation \n",
    "    tf = 10.0 \n",
    "    N = 100 \n",
    "    t_vec = range(0.0, tf, length=N)\n",
    "    dt = t_vec[2] - t_vec[1]\n",
    "    \n",
    "    # position of dragon \n",
    "    r_dragon = [[cos(t), sin(t), sin(t)] for t in t_vec]\n",
    "    r_quad = [r + rope_length*normalize([1 + cos(t), -1 + cos(t), -.3 + cos(t)]) for (r,t) in zip(r_dragon,t_vec)]\n",
    "    \n",
    "    for (a,b) in zip(r_dragon, r_quad)\n",
    "        @assert norm(a - b) ≈ rope_length\n",
    "    end\n",
    "    \n",
    "    # rope attitudes \n",
    "    rope_Qs = [get_dcm_from_ends(a, b) for (a,b) in zip(r_dragon, r_quad)]\n",
    "    rope_rs = [(a + b) / 2 for (a,b) in zip(r_dragon, r_quad)]\n",
    "    \n",
    "    # make up attitudes for dragon and quad\n",
    "    dragon_Qs = [dcm_from_phi(θ * [1, .2, .3]) for θ in range(0.0, pi/2, length=N)]\n",
    "    quad_Qs = [dcm_from_phi(θ * [-.1, 1, -.3]) for θ in range(0.0, pi/2, length=N)]\n",
    "\n",
    "    # animate \n",
    "    anim = mc.Animation(floor(Int,1/dt))\n",
    "        for k = 1:N\n",
    "            mc.atframe(anim, k) do\n",
    "                # NOTE no :base\n",
    "                mc.settransform!(vis[:dragon], mc.compose(  \n",
    "                    mc.Translation(r_dragon[k]),\n",
    "                    mc.LinearMap(dragon_Qs[k])\n",
    "                ))\n",
    "                # NOTE no :base\n",
    "                mc.settransform!(vis[:quad], mc.compose(\n",
    "                    mc.Translation(r_quad[k]),\n",
    "                    mc.LinearMap(quad_Qs[k])\n",
    "                ))\n",
    "            \n",
    "                mc.settransform!(vis[:rope], mc.compose(\n",
    "                    mc.Translation(rope_rs[k]),\n",
    "                    mc.LinearMap(rope_Qs[k])\n",
    "                ))\n",
    "            end\n",
    "        end\n",
    "    mc.setanimation!(vis, anim)\n",
    "    mc.render(vis)\n",
    "end"
   ]
  }
 ],
 "metadata": {
  "kernelspec": {
   "display_name": "Julia 1.6.7",
   "language": "julia",
   "name": "julia-1.6"
  },
  "language_info": {
   "file_extension": ".jl",
   "mimetype": "application/julia",
   "name": "julia",
   "version": "1.6.7"
  }
 },
 "nbformat": 4,
 "nbformat_minor": 5
}
