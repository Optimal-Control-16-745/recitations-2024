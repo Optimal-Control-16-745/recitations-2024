{
 "cells": [
  {
   "cell_type": "code",
   "execution_count": 12,
   "id": "709491a7",
   "metadata": {},
   "outputs": [
    {
     "name": "stderr",
     "output_type": "stream",
     "text": [
      "\u001b[32m\u001b[1m  Activating\u001b[22m\u001b[39m environment at `~/devel/recitations/2_24_recitation/Project.toml`\n"
     ]
    }
   ],
   "source": [
    "import Pkg\n",
    "Pkg.activate(@__DIR__)\n",
    "# Pkg.instantiate()\n",
    "using LinearAlgebra, Plots\n",
    "import ForwardDiff as FD\n",
    "import MeshCat as mc \n",
    "# using JLD2\n",
    "using Test\n",
    "using Random\n",
    "import Convex as cvx \n",
    "import ECOS \n",
    "using ProgressMeter"
   ]
  },
  {
   "cell_type": "code",
   "execution_count": 13,
   "id": "b027add5",
   "metadata": {},
   "outputs": [
    {
     "data": {
      "text/plain": [
       "animate_quadrotor (generic function with 1 method)"
      ]
     },
     "execution_count": 13,
     "metadata": {},
     "output_type": "execute_result"
    }
   ],
   "source": [
    "include(joinpath(@__DIR__, \"utils\",\"quadrotor.jl\"))"
   ]
  },
  {
   "cell_type": "markdown",
   "id": "3479fbac",
   "metadata": {},
   "source": [
    "## Linearization warmup \n",
    "Before we apply convex MPC to nonlinear systems, let's go over what it means to \"linearize our system\". Specifically, we are going to approximate our nonlinear system with a first-order Taylor series, and define a new set of $(\\Delta x, \\Delta u)$ coordinates.\n",
    "\n",
    "First, assume our discrete time dynamics are the following:\n",
    "\n",
    "$$ x_{k+1} = f(x_k,u_k) $$\n",
    "\n",
    "And we are going to linearize about a reference trajectory $\\bar{x}_{1:N}, \\bar{u}_{1:N-1}$. From here, we can define our delta's accordingly:\n",
    "\n",
    "$$ \\begin{align} x_k &= \\bar{x}_k + \\Delta x_k \\\\ u_k &= \\bar{u}_k + \\Delta u_k \\end{align}$$  \n",
    "\n",
    "Next, we are going to approximate our discrete time dynamics function with the following first order Taylor series:\n",
    "\n",
    "$$ \n",
    "x_{k+1} \\approx f(\\bar{x}_k, \\bar{u}_k) + \\bigg[\\frac{\\partial f}{\\partial x} \\bigg|_{\\bar{x}_k, \\bar{u}_k}  \\bigg](x_k - \\bar{x}_k) + \\bigg[\\frac{\\partial f}{\\partial u} \\bigg|_{\\bar{x}_k, \\bar{u}_k}  \\bigg](u_k - \\bar{u}_k)\n",
    "$$\n",
    "\n",
    "Which we can substitute in our delta notation to get the following:\n",
    "\n",
    "$$ \n",
    "\\bar{x}_{k+1} + \\Delta x_{k+1} \\approx f(\\bar{x}_k, \\bar{u}_k) + \\bigg[\\frac{\\partial f}{\\partial x} \\bigg|_{\\bar{x}_k, \\bar{u}_k}  \\bigg]\\Delta x_k + \\bigg[\\frac{\\partial f}{\\partial u} \\bigg|_{\\bar{x}_k, \\bar{u}_k}  \\bigg] \\Delta u_k\n",
    "$$\n",
    "\n",
    "If the trajectory $\\bar{x},\\bar{u}$ is dynamically feasible (meaning $\\bar{x}_{k+1} = f(\\bar{x}_k, \\bar{u}_k)$), then we can cancel these equivalent terms on each side of the above equation, resulting in the following:\n",
    "\n",
    "$$ \n",
    " \\Delta x_{k+1} \\approx  \\bigg[\\frac{\\partial f}{\\partial x} \\bigg|_{\\bar{x}_k, \\bar{u}_k}  \\bigg]\\Delta x_k + \\bigg[\\frac{\\partial f}{\\partial u} \\bigg|_{\\bar{x}_k, \\bar{u}_k}  \\bigg] \\Delta u_k\n",
    "$$"
   ]
  },
  {
   "cell_type": "markdown",
   "id": "f9be643b",
   "metadata": {},
   "source": [
    "## Quadrotor MPC\n",
    "We can formulate this MPC problem where we optimize over $x,u$:\n",
    "$$ \\begin{align} \\min_{x_{1:N},u_{1:N-1}} \\quad & \\sum_{i=1}^{N-1} \\bigg[ (x_i - x_{i,ref})^TQ(x_i - x_{i,ref}) + (u_i - u_{i,ref})^TR(u_i - u_{i,ref}) \\bigg] + \\frac{1}{2}(x_N - x_{N,ref})^TQ_f(x_N - x_{N,ref}) & \\\\ \n",
    " \\text{st} \\quad & x_1 = x_{\\text{IC}} \\\\ \n",
    " & x_{k+1} = f(\\bar{x}_k, \\bar{u}_k) + \\bigg[\\frac{\\partial f}{\\partial x} \\bigg|_{\\bar{x}_k, \\bar{u}_k}  \\bigg](x_k - \\bar{x}_k) + \\bigg[\\frac{\\partial f}{\\partial u} \\bigg|_{\\bar{x}_k, \\bar{u}_k}  \\bigg](u_k - \\bar{u}_k) \\quad &\\text{for } i = 1,2,\\ldots,N-1 \\\\ \n",
    " & u_{min} \\leq u_i \\leq u_{max} \\quad &\\text{for } i = 1,2,\\ldots,N-1\\\\ \n",
    " \\end{align}$$\n",
    " \n",
    " \n",
    " Or equivalently where we optimize over $\\Delta x, \\Delta u$, by simply substituting in $x = \\bar{x} + \\Delta x$ and $u = \\bar{u} + \\Delta u$:\n",
    " \n",
    " \n",
    " $$ \\begin{align} \\min_{\\Delta x_{1:N},\\Delta u_{1:N-1}} \\quad & \\sum_{i=1}^{N-1} \\bigg[ (\\bar{x}_i + \\Delta x_i - x_{i,ref})^TQ(\\bar{x}_i + \\Delta x_i - x_{i,ref}) + (\\bar{u}_i + \\Delta u_i - u_{i,ref})^TR(\\bar{u}_i + \\Delta u_i - u_{i,ref}) \\bigg] \\\\ & +  \\frac{1}{2}(\\bar{x}_N + \\Delta x_N - x_{N,ref})^TQ_f(\\bar{x}_N + \\Delta x_N - x_{N,ref}) & \\\\ \n",
    " \\text{st} \\quad & \\bar{x}_1 + \\Delta x_1 = x_{\\text{IC}} \\\\ \n",
    " & \\bar{x}_{k+1} + \\Delta x_{k+1} = f(\\bar{x}_k, \\bar{u}_k) + \\bigg[\\frac{\\partial f}{\\partial x} \\bigg|_{\\bar{x}_k, \\bar{u}_k}  \\bigg]\\Delta x_k + \\bigg[\\frac{\\partial f}{\\partial u} \\bigg|_{\\bar{x}_k, \\bar{u}_k}  \\bigg] \\Delta u_k \\quad &\\text{for } i = 1,2,\\ldots,N-1 \\\\ \n",
    " & u_{min} \\leq \\bar{u}_i + \\Delta u_i \\leq u_{max} \\quad &\\text{for } i = 1,2,\\ldots,N-1\\\\ \n",
    " \\end{align}$$"
   ]
  },
  {
   "cell_type": "code",
   "execution_count": 14,
   "id": "8fb1ea8c",
   "metadata": {},
   "outputs": [
    {
     "data": {
      "text/plain": [
       "convex_mpc_controller_deltas (generic function with 1 method)"
      ]
     },
     "execution_count": 14,
     "metadata": {},
     "output_type": "execute_result"
    }
   ],
   "source": [
    "function get_jacobians(model, X̄, Ū)\n",
    "    N_mpc = length(X̄)\n",
    "    A = [FD.jacobian(_x -> rk4(model,dynamics,_x,Ū[i],model.dt), X̄[i]) for i = 1:(N_mpc - 1)]\n",
    "    B = [FD.jacobian(_u -> rk4(model,dynamics,X̄[i],_u,model.dt), Ū[i]) for i = 1:(N_mpc - 1)]\n",
    "    return A, B\n",
    "end\n",
    "function convex_mpc_controller_full(model,params,x0,idx)\n",
    "    \n",
    "    # full just means solving for x's and u's \n",
    "\n",
    "    N_mpc, Q, R = params.N_mpc, params.Q, params.R\n",
    "\n",
    "    # get slice of the relevant trajectories for the N_mpc window\n",
    "    X̄    =    params.X̄[idx:(idx + N_mpc - 1)]\n",
    "    Ū    =    params.Ū[idx:(idx + N_mpc - 2)]\n",
    "    Xref = params.Xref[idx:(idx + N_mpc - 1)]\n",
    "    Uref = params.Uref[idx:(idx + N_mpc - 2)]\n",
    "\n",
    "    # create variables \n",
    "    X = cvx.Variable(params.nx,N_mpc)\n",
    "    U = cvx.Variable(params.nu,N_mpc - 1)\n",
    "\n",
    "    # cost function (tracking cost on Xref, Uref)\n",
    "    cost = 0.0\n",
    "    for i = 1:N_mpc\n",
    "        cost += 0.5*cvx.quadform(X[:,i] - Xref[i], Q)\n",
    "    end\n",
    "    for i = 1:(N_mpc - 1)\n",
    "        cost += 0.5*cvx.quadform(U[:,i] - Uref[i], R)\n",
    "    end\n",
    "    prob = cvx.minimize(cost)\n",
    "\n",
    "    # initial condition constraint\n",
    "    prob.constraints += X[:,1] == x0\n",
    "\n",
    "    # dynamics constraints\n",
    "    A,B = get_jacobians(model, X̄, Ū)\n",
    "    for i = 1:(N_mpc-1)\n",
    "        # first order taylor series (linearized dynamics)\n",
    "        prob.constraints += X[:,i+1] == rk4(model, dynamics, X̄[i], Ū[i], params.dt) + A[i]*(X[:,i] - X̄[i]) + B[i]*(U[:,i] - Ū[i])\n",
    "    end\n",
    "\n",
    "    cvx.solve!(prob, ECOS.Optimizer; silent_solver = true)\n",
    "\n",
    "    U = U.value\n",
    "\n",
    "    return vec(U[:,1])\n",
    "end\n",
    "function convex_mpc_controller_deltas(model,params,x0,idx)\n",
    "    \n",
    "    # solve for delta x delta u, instead of x and u directly \n",
    "    \n",
    "    # this comes from x = xbar + deltax, u = ubar + deltau\n",
    "\n",
    "    N_mpc, Q, R = params.N_mpc, params.Q, params.R\n",
    "\n",
    "    X̄ =       params.X̄[idx:(idx + N_mpc - 1)]\n",
    "    Ū =       params.Ū[idx:(idx + N_mpc - 2)]\n",
    "    Xref = params.Xref[idx:(idx + N_mpc - 1)]\n",
    "    Uref = params.Uref[idx:(idx + N_mpc - 2)]\n",
    "\n",
    "\n",
    "    ΔX = cvx.Variable(params.nx,N_mpc)\n",
    "    ΔU = cvx.Variable(params.nu,N_mpc - 1)\n",
    "\n",
    "\n",
    "    cost = 0.0\n",
    "    for i = 1:N_mpc\n",
    "        xi = X̄[i] + ΔX[:,i]\n",
    "        cost += 0.5*cvx.quadform(xi - Xref[i], Q)\n",
    "    end\n",
    "    for i = 1:(N_mpc - 1)\n",
    "        ui = Ū[i] + ΔU[:,i]\n",
    "        cost += 0.5*cvx.quadform(ui - Uref[i], R)\n",
    "    end\n",
    "\n",
    "    prob = cvx.minimize(cost)\n",
    "\n",
    "    # initial condition constraint\n",
    "    prob.constraints += X̄[1] + ΔX[:,1] == x0\n",
    "\n",
    "    # add dynamics constraints\n",
    "    A,B = get_jacobians(model, X̄, Ū)\n",
    "    for i = 1:(N_mpc-1)\n",
    "        # first order taylor series (this time with deltas)\n",
    "        \n",
    "        # IMPORTANT: if the trajectory we linearize about is dynamically feasible\n",
    "        # then X̄[i+1] = rk4(model, dynamics, X̄[i], Ū[i], params.dt) and these terms cancel\n",
    "        prob.constraints += X̄[i+1] + ΔX[:,i+1] == rk4(model, dynamics, X̄[i], Ū[i], params.dt) + A[i]*ΔX[:,i] + B[i]*ΔU[:,i]\n",
    "    end\n",
    "    cvx.solve!(prob, ECOS.Optimizer; silent_solver = true)\n",
    "    ΔU = ΔU.value\n",
    "\n",
    "    return Ū[1] + ΔU[:,1]\n",
    "end"
   ]
  },
  {
   "cell_type": "code",
   "execution_count": 16,
   "id": "cb09201d",
   "metadata": {},
   "outputs": [
    {
     "name": "stderr",
     "output_type": "stream",
     "text": [
      "\u001b[32msimulating 100%|█████████████████████████████████████████| Time: 0:00:05\u001b[39m\n",
      "\u001b[36m\u001b[1m[ \u001b[22m\u001b[39m\u001b[36m\u001b[1mInfo: \u001b[22m\u001b[39mListening on: 127.0.0.1:8787, thread id: 1\n",
      "\u001b[36m\u001b[1m┌ \u001b[22m\u001b[39m\u001b[36m\u001b[1mInfo: \u001b[22m\u001b[39mMeshCat server started. You can open the visualizer by visiting the following URL in your browser:\n",
      "\u001b[36m\u001b[1m└ \u001b[22m\u001b[39mhttp://127.0.0.1:8787\n"
     ]
    },
    {
     "data": {
      "text/html": [
       "    <div style=\"height: 500px; width: 100%; overflow-x: auto; overflow-y: hidden; resize: both\">\n",
       "    <iframe src=\"http://127.0.0.1:8787\" style=\"width: 100%; height: 100%; border: none\"></iframe>\n",
       "    </div>\n"
      ],
      "text/plain": [
       "MeshCat.DisplayedVisualizer(MeshCat.CoreVisualizer(MeshCat.SceneTrees.SceneNode(nothing, nothing, Dict{String, Vector{UInt8}}(), UInt8[0x83, 0xa7, 0x6f, 0x70, 0x74, 0x69, 0x6f, 0x6e, 0x73, 0x82  …  0x5f, 0x61, 0x6e, 0x69, 0x6d, 0x61, 0x74, 0x69, 0x6f, 0x6e], Dict{String, MeshCat.SceneTrees.SceneNode}(\"meshcat\" => MeshCat.SceneTrees.SceneNode(nothing, nothing, Dict{String, Vector{UInt8}}(), nothing, Dict{String, MeshCat.SceneTrees.SceneNode}(\"traj\" => MeshCat.SceneTrees.SceneNode(nothing, nothing, Dict{String, Vector{UInt8}}(), nothing, Dict{String, MeshCat.SceneTrees.SceneNode}(\"s23\" => MeshCat.SceneTrees.SceneNode(UInt8[0x83, 0xa6, 0x6f, 0x62, 0x6a, 0x65, 0x63, 0x74, 0x84, 0xaa  …  0x74, 0x2f, 0x74, 0x72, 0x61, 0x6a, 0x2f, 0x73, 0x32, 0x33], nothing, Dict{String, Vector{UInt8}}(), nothing, Dict{String, MeshCat.SceneTrees.SceneNode}()), \"s14\" => MeshCat.SceneTrees.SceneNode(UInt8[0x83, 0xa6, 0x6f, 0x62, 0x6a, 0x65, 0x63, 0x74, 0x84, 0xaa  …  0x74, 0x2f, 0x74, 0x72, 0x61, 0x6a, 0x2f, 0x73, 0x31, 0x34], nothing, Dict{String, Vector{UInt8}}(), nothing, Dict{String, MeshCat.SceneTrees.SceneNode}()), \"s18\" => MeshCat.SceneTrees.SceneNode(UInt8[0x83, 0xa6, 0x6f, 0x62, 0x6a, 0x65, 0x63, 0x74, 0x84, 0xaa  …  0x74, 0x2f, 0x74, 0x72, 0x61, 0x6a, 0x2f, 0x73, 0x31, 0x38], nothing, Dict{String, Vector{UInt8}}(), nothing, Dict{String, MeshCat.SceneTrees.SceneNode}()), \"p82\" => MeshCat.SceneTrees.SceneNode(UInt8[0x83, 0xa6, 0x6f, 0x62, 0x6a, 0x65, 0x63, 0x74, 0x84, 0xaa  …  0x74, 0x2f, 0x74, 0x72, 0x61, 0x6a, 0x2f, 0x70, 0x38, 0x32], nothing, Dict{String, Vector{UInt8}}(), nothing, Dict{String, MeshCat.SceneTrees.SceneNode}()), \"s44\" => MeshCat.SceneTrees.SceneNode(UInt8[0x83, 0xa6, 0x6f, 0x62, 0x6a, 0x65, 0x63, 0x74, 0x84, 0xaa  …  0x74, 0x2f, 0x74, 0x72, 0x61, 0x6a, 0x2f, 0x73, 0x34, 0x34], nothing, Dict{String, Vector{UInt8}}(), nothing, Dict{String, MeshCat.SceneTrees.SceneNode}()), \"p43\" => MeshCat.SceneTrees.SceneNode(UInt8[0x83, 0xa6, 0x6f, 0x62, 0x6a, 0x65, 0x63, 0x74, 0x84, 0xaa  …  0x74, 0x2f, 0x74, 0x72, 0x61, 0x6a, 0x2f, 0x70, 0x34, 0x33], nothing, Dict{String, Vector{UInt8}}(), nothing, Dict{String, MeshCat.SceneTrees.SceneNode}()), \"s53\" => MeshCat.SceneTrees.SceneNode(UInt8[0x83, 0xa6, 0x6f, 0x62, 0x6a, 0x65, 0x63, 0x74, 0x84, 0xaa  …  0x74, 0x2f, 0x74, 0x72, 0x61, 0x6a, 0x2f, 0x73, 0x35, 0x33], nothing, Dict{String, Vector{UInt8}}(), nothing, Dict{String, MeshCat.SceneTrees.SceneNode}()), \"s19\" => MeshCat.SceneTrees.SceneNode(UInt8[0x83, 0xa6, 0x6f, 0x62, 0x6a, 0x65, 0x63, 0x74, 0x84, 0xaa  …  0x74, 0x2f, 0x74, 0x72, 0x61, 0x6a, 0x2f, 0x73, 0x31, 0x39], nothing, Dict{String, Vector{UInt8}}(), nothing, Dict{String, MeshCat.SceneTrees.SceneNode}()), \"p60\" => MeshCat.SceneTrees.SceneNode(UInt8[0x83, 0xa6, 0x6f, 0x62, 0x6a, 0x65, 0x63, 0x74, 0x84, 0xaa  …  0x74, 0x2f, 0x74, 0x72, 0x61, 0x6a, 0x2f, 0x70, 0x36, 0x30], nothing, Dict{String, Vector{UInt8}}(), nothing, Dict{String, MeshCat.SceneTrees.SceneNode}()), \"s52\" => MeshCat.SceneTrees.SceneNode(UInt8[0x83, 0xa6, 0x6f, 0x62, 0x6a, 0x65, 0x63, 0x74, 0x84, 0xaa  …  0x74, 0x2f, 0x74, 0x72, 0x61, 0x6a, 0x2f, 0x73, 0x35, 0x32], nothing, Dict{String, Vector{UInt8}}(), nothing, Dict{String, MeshCat.SceneTrees.SceneNode}())…)), \"vic\" => MeshCat.SceneTrees.SceneNode(UInt8[0x83, 0xa6, 0x6f, 0x62, 0x6a, 0x65, 0x63, 0x74, 0x84, 0xaa  …  0x65, 0x73, 0x68, 0x63, 0x61, 0x74, 0x2f, 0x76, 0x69, 0x63], nothing, Dict{String, Vector{UInt8}}(), nothing, Dict{String, MeshCat.SceneTrees.SceneNode}()), \"target\" => MeshCat.SceneTrees.SceneNode(UInt8[0x83, 0xa6, 0x6f, 0x62, 0x6a, 0x65, 0x63, 0x74, 0x84, 0xaa  …  0x63, 0x61, 0x74, 0x2f, 0x74, 0x61, 0x72, 0x67, 0x65, 0x74], nothing, Dict{String, Vector{UInt8}}(), nothing, Dict{String, MeshCat.SceneTrees.SceneNode}()))))), Set{HTTP.WebSockets.WebSocket}(), ip\"127.0.0.1\", 8787))"
      ]
     },
     "metadata": {},
     "output_type": "display_data"
    }
   ],
   "source": [
    "let\n",
    "\n",
    "    \n",
    "    # dynamics parameters\n",
    "    nx = 12 # state size\n",
    "    nu = 4  # control size \n",
    "    N = 250 # simulation length \n",
    "    dt = 0.1\n",
    "    x0 = [0;0;1.2;0;0;0.0;zeros(6)]\n",
    "\n",
    "    # trajectory that we linearize about is just hovering \n",
    "    X̄ = [deepcopy(x0) for i = 1:N] \n",
    "    Ū = [(9.81*0.5/4)*ones(nu) for i = 1:(N-1)]\n",
    "    Q = 10*diagm(ones(nx))\n",
    "    R = .1*diagm(ones(nu))\n",
    "\n",
    "    model = (mass=0.5,\n",
    "            J=Diagonal([0.0023, 0.0023, 0.004]),\n",
    "            gravity=[0,0,-9.81],\n",
    "            L=0.1750,\n",
    "            kf=1.0,\n",
    "            km=0.0245,dt = dt)\n",
    "\n",
    "    # track an infinity loop \n",
    "    Xref = [ [5*cos(t);5*cos(t)*sin(t);1.2;zeros(9)] for t = range(-pi/2,3*pi/2 + 4*pi, length = N)]\n",
    "    for i = 1:(N-1)\n",
    "        Xref[i][4:6] = (Xref[i+1][1:3] - Xref[i][1:3])/dt\n",
    "    end\n",
    "    Uref = deepcopy(Ū)\n",
    "\n",
    "    # MPC horizon length, aka plan for the next 40 timesteps \n",
    "    N_mpc = 40\n",
    "\n",
    "    # control and state limits\n",
    "    u_min = zeros(nu)\n",
    "    u_max = 10*ones(nu)\n",
    "    x_min = -1e3*ones(nx)\n",
    "    x_max = 1e3*ones(nx)\n",
    "\n",
    "    params = (N = N, dt = dt, Q = Q, R = R, X̄ = X̄, Ū = Ū, Xref = Xref, Uref = Uref, N_mpc = N_mpc,#idx = idx,\n",
    "    x_min = x_min, x_max = x_max, u_min = u_min, u_max = u_max,nx = nx, nu = nu)\n",
    "\n",
    "    # main simulation\n",
    "    N_sim = 100\n",
    "    @assert N_sim < N\n",
    "    Xsim = [deepcopy(x0) for i = 1:N_sim]\n",
    "    Usim = [zeros(2) for i = 1:(N_sim-1)]\n",
    "    @showprogress \"simulating\" for i = 1:(N_sim-1)\n",
    "        Usim[i] = convex_mpc_controller_deltas(model,params,Xsim[i],i)\n",
    "\n",
    "        # simulate\n",
    "        Xsim[i+1] = rk4(model, dynamics, Xsim[i], Usim[i], dt)\n",
    "\n",
    "    end\n",
    "\n",
    "    display(animate_quadrotor(Xsim, Xref, params.dt))\n",
    "end"
   ]
  },
  {
   "cell_type": "code",
   "execution_count": null,
   "id": "ff39f3c1",
   "metadata": {},
   "outputs": [],
   "source": []
  }
 ],
 "metadata": {
  "kernelspec": {
   "display_name": "Julia 1.6.7",
   "language": "julia",
   "name": "julia-1.6"
  },
  "language_info": {
   "file_extension": ".jl",
   "mimetype": "application/julia",
   "name": "julia",
   "version": "1.6.7"
  }
 },
 "nbformat": 4,
 "nbformat_minor": 5
}
